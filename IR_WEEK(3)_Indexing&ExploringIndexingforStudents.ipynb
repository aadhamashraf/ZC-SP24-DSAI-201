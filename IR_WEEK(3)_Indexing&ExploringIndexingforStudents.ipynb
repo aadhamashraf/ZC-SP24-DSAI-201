{
  "cells": [
    {
      "cell_type": "markdown",
      "metadata": {
        "id": "view-in-github",
        "colab_type": "text"
      },
      "source": [
        "<a href=\"https://colab.research.google.com/github/aadhamashraf/ZC-SP24-DSAI-201/blob/main/IR_WEEK(3)_Indexing%26ExploringIndexingforStudents.ipynb\" target=\"_parent\"><img src=\"https://colab.research.google.com/assets/colab-badge.svg\" alt=\"Open In Colab\"/></a>"
      ]
    },
    {
      "cell_type": "markdown",
      "metadata": {
        "id": "5ZzUxXUVMVVU"
      },
      "source": [
        "\n",
        "\n",
        "# **IR** - WEEK(3)\n"
      ]
    },
    {
      "cell_type": "markdown",
      "metadata": {
        "id": "2kjTczIiMctt"
      },
      "source": [
        "***This*** is one of a series of Colab notebooks created for the **IR** course. It demonstrates how we can **index a collection**, and how to access an index to visualize some index analysis.\n",
        "\n",
        "The **learning outcomes** of the this notebook are:\n",
        "\n",
        "*   PyTerrier setup.\n",
        "*   Preprocessing.\n",
        "*   Indexing a collection.\n",
        "*   Accessing and exploring the index.\n",
        "\n"
      ]
    },
    {
      "cell_type": "markdown",
      "metadata": {
        "id": "gkS6LLkX6HHV"
      },
      "source": [
        "\n",
        "### **PyTerrier Setup**\n",
        "**What is PyTerrier?**\n",
        "\n",
        "**[PyTerrier](https://pyterrier.readthedocs.io/en/latest/)** is a Python framework, but uses the underlying [Terrier information retrieval](http://terrier.org/) ***toolkit for many indexing and retrieval operations***. While PyTerrier was new in 2020, Terrier is written in Java and has a long history dating back to 2001. PyTerrier makes it easy to perform IR experiments in Python, but using the mature Terrier platform for the expensive indexing and retrieval operations.\n"
      ]
    },
    {
      "cell_type": "code",
      "execution_count": null,
      "metadata": {
        "id": "A6sKgPMd_-gU"
      },
      "outputs": [],
      "source": [
        "#install the Pyterrier framework\n",
        "!pip install python-terrier\n",
        "# install the nltk modules\n",
        "!pip install nltk"
      ]
    },
    {
      "cell_type": "markdown",
      "metadata": {
        "id": "GIzygfXzAILT"
      },
      "source": [
        "### You must always start by **importing PyTerrier** and **initialise PyTerrier**.\n",
        "\n",
        "To initialize PyTerrier: using **PyTerrier's init()** method.\n",
        "\n",
        "The **init()** method is needed as PyTerrier must download Terrier's jar file and start the **Java virtual machine**.\n",
        "\n",
        "We prevent init() from being called more than once by checking started()."
      ]
    },
    {
      "cell_type": "code",
      "execution_count": null,
      "metadata": {
        "id": "adAChFH6AN1C",
        "colab": {
          "base_uri": "https://localhost:8080/"
        },
        "outputId": "74d02eac-9d5a-4a9d-a0df-b1b72807d381"
      },
      "outputs": [
        {
          "output_type": "stream",
          "name": "stdout",
          "text": [
            "terrier-assemblies 5.8 jar-with-dependencies not found, downloading to /root/.pyterrier...\n",
            "Done\n",
            "terrier-python-helper 0.0.8 jar not found, downloading to /root/.pyterrier...\n",
            "Done\n"
          ]
        },
        {
          "output_type": "stream",
          "name": "stderr",
          "text": [
            "PyTerrier 0.10.0 has loaded Terrier 5.8 (built by craigm on 2023-11-01 18:05) and terrier-helper 0.0.8\n",
            "\n"
          ]
        }
      ],
      "source": [
        "import pyterrier as pt\n",
        "if not pt.started():\n",
        "  pt.init()"
      ]
    },
    {
      "cell_type": "markdown",
      "metadata": {
        "id": "FvXs6SpBZ6mD"
      },
      "source": [
        "### We will **import all the python libraries** needed for this lab\n",
        "\n",
        "*   Pandas\n",
        "*   nltk\n",
        "\n",
        "\n",
        "\n"
      ]
    },
    {
      "cell_type": "code",
      "execution_count": null,
      "metadata": {
        "id": "L3cU_TmDZ_Jf"
      },
      "outputs": [],
      "source": [
        "#Import the necessary modules:\n",
        "import pandas as pd\n",
        "import nltk\n",
        "from nltk.corpus import stopwords\n",
        "from nltk.tokenize import word_tokenize\n",
        "from nltk.stem import PorterStemmer\n",
        "import re # used to clean the data\n",
        "#to display the full text on the notebook without truncation\n",
        "pd.set_option('display.max_colwidth', 150)\n"
      ]
    },
    {
      "cell_type": "markdown",
      "metadata": {
        "id": "qwvYVmK5WOD-"
      },
      "source": [
        "### **Data preparation**\n",
        "We will first create five textual documents."
      ]
    },
    {
      "cell_type": "code",
      "execution_count": null,
      "metadata": {
        "colab": {
          "base_uri": "https://localhost:8080/",
          "height": 106
        },
        "id": "AoD-lm5-YSLx",
        "outputId": "19c20c7e-1a04-45e9-ca7f-b0f4d6102c26"
      },
      "outputs": [
        {
          "output_type": "error",
          "ename": "SyntaxError",
          "evalue": "unterminated string literal (detected at line 7) (<ipython-input-1-8c6c4667a598>, line 7)",
          "traceback": [
            "\u001b[0;36m  File \u001b[0;32m\"<ipython-input-1-8c6c4667a598>\"\u001b[0;36m, line \u001b[0;32m7\u001b[0m\n\u001b[0;31m    'd5',\"The challenges and opportunities of globalization in the\u001b[0m\n\u001b[0m         ^\u001b[0m\n\u001b[0;31mSyntaxError\u001b[0m\u001b[0;31m:\u001b[0m unterminated string literal (detected at line 7)\n"
          ]
        }
      ],
      "source": [
        "docs_df = pd.DataFrame([ [\"d0\",\"The importance of education in society and its impact on economic growth\",\n",
        "\n",
        "                                \"d1\",\"The benefits of regular exercise for maintaining physical and mental health\",\n",
        "                                'd2',\"The role of technology in modern workplaces: Increasing productivity and efficiency\",\n",
        "                                'd3',\"The influence of social media on interpersonal relationships and communication\",\n",
        "                                'd4',\"The significance of environmental conservation efforts for sustainable development\",\n",
        "                                'd5',\"The challenges and opportunities of globalization in the\n",
        "                        columns=[\"docno\", \"raw_text\"])\n",
        "\n",
        "docs_df"
      ]
    },
    {
      "cell_type": "markdown",
      "metadata": {
        "id": "SyKXDJf0p_Lp"
      },
      "source": [
        "### Before indexing our data we need to do the following **processing steps**:\n",
        "\n",
        "1.   **Tokenization**\n",
        "2.   **Remove stopwords.**\n",
        "3.   **Normalization.**\n",
        "\n",
        "Then there is **Stemming**\n",
        "\n"
      ]
    },
    {
      "cell_type": "markdown",
      "metadata": {
        "id": "mB-qA3T9qoBs"
      },
      "source": [
        "### **Let's remove the stopwords.**"
      ]
    },
    {
      "cell_type": "markdown",
      "source": [
        "\n",
        "### **NLTK Library**\n",
        "It contains all the common stop words in python\n"
      ],
      "metadata": {
        "id": "UtDg-pG8dd5e"
      }
    },
    {
      "cell_type": "code",
      "source": [
        "import nltk\n",
        "from nltk.corpus import stopwords\n",
        "\n",
        "nltk.download('stopwords')\n",
        "print(stopwords.words('english'))"
      ],
      "metadata": {
        "colab": {
          "base_uri": "https://localhost:8080/"
        },
        "id": "70oXgooLdwKe",
        "outputId": "894ee69f-7462-4858-df92-cc299e3aac17"
      },
      "execution_count": null,
      "outputs": [
        {
          "output_type": "stream",
          "name": "stdout",
          "text": [
            "['i', 'me', 'my', 'myself', 'we', 'our', 'ours', 'ourselves', 'you', \"you're\", \"you've\", \"you'll\", \"you'd\", 'your', 'yours', 'yourself', 'yourselves', 'he', 'him', 'his', 'himself', 'she', \"she's\", 'her', 'hers', 'herself', 'it', \"it's\", 'its', 'itself', 'they', 'them', 'their', 'theirs', 'themselves', 'what', 'which', 'who', 'whom', 'this', 'that', \"that'll\", 'these', 'those', 'am', 'is', 'are', 'was', 'were', 'be', 'been', 'being', 'have', 'has', 'had', 'having', 'do', 'does', 'did', 'doing', 'a', 'an', 'the', 'and', 'but', 'if', 'or', 'because', 'as', 'until', 'while', 'of', 'at', 'by', 'for', 'with', 'about', 'against', 'between', 'into', 'through', 'during', 'before', 'after', 'above', 'below', 'to', 'from', 'up', 'down', 'in', 'out', 'on', 'off', 'over', 'under', 'again', 'further', 'then', 'once', 'here', 'there', 'when', 'where', 'why', 'how', 'all', 'any', 'both', 'each', 'few', 'more', 'most', 'other', 'some', 'such', 'no', 'nor', 'not', 'only', 'own', 'same', 'so', 'than', 'too', 'very', 's', 't', 'can', 'will', 'just', 'don', \"don't\", 'should', \"should've\", 'now', 'd', 'll', 'm', 'o', 're', 've', 'y', 'ain', 'aren', \"aren't\", 'couldn', \"couldn't\", 'didn', \"didn't\", 'doesn', \"doesn't\", 'hadn', \"hadn't\", 'hasn', \"hasn't\", 'haven', \"haven't\", 'isn', \"isn't\", 'ma', 'mightn', \"mightn't\", 'mustn', \"mustn't\", 'needn', \"needn't\", 'shan', \"shan't\", 'shouldn', \"shouldn't\", 'wasn', \"wasn't\", 'weren', \"weren't\", 'won', \"won't\", 'wouldn', \"wouldn't\"]\n"
          ]
        },
        {
          "output_type": "stream",
          "name": "stderr",
          "text": [
            "[nltk_data] Downloading package stopwords to /root/nltk_data...\n",
            "[nltk_data]   Unzipping corpora/stopwords.zip.\n"
          ]
        }
      ]
    },
    {
      "cell_type": "code",
      "source": [
        "# Download NLTK resources\n",
        "nltk.download('stopwords')\n",
        "nltk.download('punkt')"
      ],
      "metadata": {
        "colab": {
          "base_uri": "https://localhost:8080/"
        },
        "id": "gbgiSyYWVlmQ",
        "outputId": "82986175-aa00-4a44-e41b-436ebca01eb9"
      },
      "execution_count": null,
      "outputs": [
        {
          "output_type": "stream",
          "name": "stderr",
          "text": [
            "[nltk_data] Downloading package stopwords to /root/nltk_data...\n",
            "[nltk_data]   Package stopwords is already up-to-date!\n",
            "[nltk_data] Downloading package punkt to /root/nltk_data...\n",
            "[nltk_data]   Unzipping tokenizers/punkt.zip.\n"
          ]
        },
        {
          "output_type": "execute_result",
          "data": {
            "text/plain": [
              "True"
            ]
          },
          "metadata": {},
          "execution_count": 7
        }
      ]
    },
    {
      "cell_type": "markdown",
      "source": [
        "**NLTK library** has 179 words in the stopword collection.\n",
        "\n",
        "As you can observe, most frequent words are **was, the, and I**."
      ],
      "metadata": {
        "id": "SRpTmCa3P7UG"
      }
    },
    {
      "cell_type": "code",
      "source": [
        "# Display the original DataFrames\n",
        "print(\"Original DataFrame:\")\n",
        "docs_df"
      ],
      "metadata": {
        "colab": {
          "base_uri": "https://localhost:8080/",
          "height": 255
        },
        "id": "76xVVNq_pLXY",
        "outputId": "942b6e73-34cc-4a17-d441-45fc494c1922"
      },
      "execution_count": null,
      "outputs": [
        {
          "output_type": "stream",
          "name": "stdout",
          "text": [
            "Original DataFrame:\n"
          ]
        },
        {
          "output_type": "execute_result",
          "data": {
            "text/plain": [
              "  docno  \\\n",
              "0    d0   \n",
              "1    d1   \n",
              "2    d2   \n",
              "3    d3   \n",
              "4    d4   \n",
              "5    d5   \n",
              "\n",
              "                                                                         raw_text  \n",
              "0                     Python programming language is widely used in data science.  \n",
              "1      Information retrieval techniques are crucial for efficient data searching.  \n",
              "2                             I'm a Data Scientist studing information retrieval.  \n",
              "3                Boolean model is a mathematical model for information retrieval.  \n",
              "4  I think that data retrieval techniques play a key role in information systems.  \n",
              "5                     IR system plays a very essential role in Data science field  "
            ],
            "text/html": [
              "\n",
              "  <div id=\"df-21ab4635-8a73-450d-8dfe-b550372494f2\" class=\"colab-df-container\">\n",
              "    <div>\n",
              "<style scoped>\n",
              "    .dataframe tbody tr th:only-of-type {\n",
              "        vertical-align: middle;\n",
              "    }\n",
              "\n",
              "    .dataframe tbody tr th {\n",
              "        vertical-align: top;\n",
              "    }\n",
              "\n",
              "    .dataframe thead th {\n",
              "        text-align: right;\n",
              "    }\n",
              "</style>\n",
              "<table border=\"1\" class=\"dataframe\">\n",
              "  <thead>\n",
              "    <tr style=\"text-align: right;\">\n",
              "      <th></th>\n",
              "      <th>docno</th>\n",
              "      <th>raw_text</th>\n",
              "    </tr>\n",
              "  </thead>\n",
              "  <tbody>\n",
              "    <tr>\n",
              "      <th>0</th>\n",
              "      <td>d0</td>\n",
              "      <td>Python programming language is widely used in data science.</td>\n",
              "    </tr>\n",
              "    <tr>\n",
              "      <th>1</th>\n",
              "      <td>d1</td>\n",
              "      <td>Information retrieval techniques are crucial for efficient data searching.</td>\n",
              "    </tr>\n",
              "    <tr>\n",
              "      <th>2</th>\n",
              "      <td>d2</td>\n",
              "      <td>I'm a Data Scientist studing information retrieval.</td>\n",
              "    </tr>\n",
              "    <tr>\n",
              "      <th>3</th>\n",
              "      <td>d3</td>\n",
              "      <td>Boolean model is a mathematical model for information retrieval.</td>\n",
              "    </tr>\n",
              "    <tr>\n",
              "      <th>4</th>\n",
              "      <td>d4</td>\n",
              "      <td>I think that data retrieval techniques play a key role in information systems.</td>\n",
              "    </tr>\n",
              "    <tr>\n",
              "      <th>5</th>\n",
              "      <td>d5</td>\n",
              "      <td>IR system plays a very essential role in Data science field</td>\n",
              "    </tr>\n",
              "  </tbody>\n",
              "</table>\n",
              "</div>\n",
              "    <div class=\"colab-df-buttons\">\n",
              "\n",
              "  <div class=\"colab-df-container\">\n",
              "    <button class=\"colab-df-convert\" onclick=\"convertToInteractive('df-21ab4635-8a73-450d-8dfe-b550372494f2')\"\n",
              "            title=\"Convert this dataframe to an interactive table.\"\n",
              "            style=\"display:none;\">\n",
              "\n",
              "  <svg xmlns=\"http://www.w3.org/2000/svg\" height=\"24px\" viewBox=\"0 -960 960 960\">\n",
              "    <path d=\"M120-120v-720h720v720H120Zm60-500h600v-160H180v160Zm220 220h160v-160H400v160Zm0 220h160v-160H400v160ZM180-400h160v-160H180v160Zm440 0h160v-160H620v160ZM180-180h160v-160H180v160Zm440 0h160v-160H620v160Z\"/>\n",
              "  </svg>\n",
              "    </button>\n",
              "\n",
              "  <style>\n",
              "    .colab-df-container {\n",
              "      display:flex;\n",
              "      gap: 12px;\n",
              "    }\n",
              "\n",
              "    .colab-df-convert {\n",
              "      background-color: #E8F0FE;\n",
              "      border: none;\n",
              "      border-radius: 50%;\n",
              "      cursor: pointer;\n",
              "      display: none;\n",
              "      fill: #1967D2;\n",
              "      height: 32px;\n",
              "      padding: 0 0 0 0;\n",
              "      width: 32px;\n",
              "    }\n",
              "\n",
              "    .colab-df-convert:hover {\n",
              "      background-color: #E2EBFA;\n",
              "      box-shadow: 0px 1px 2px rgba(60, 64, 67, 0.3), 0px 1px 3px 1px rgba(60, 64, 67, 0.15);\n",
              "      fill: #174EA6;\n",
              "    }\n",
              "\n",
              "    .colab-df-buttons div {\n",
              "      margin-bottom: 4px;\n",
              "    }\n",
              "\n",
              "    [theme=dark] .colab-df-convert {\n",
              "      background-color: #3B4455;\n",
              "      fill: #D2E3FC;\n",
              "    }\n",
              "\n",
              "    [theme=dark] .colab-df-convert:hover {\n",
              "      background-color: #434B5C;\n",
              "      box-shadow: 0px 1px 3px 1px rgba(0, 0, 0, 0.15);\n",
              "      filter: drop-shadow(0px 1px 2px rgba(0, 0, 0, 0.3));\n",
              "      fill: #FFFFFF;\n",
              "    }\n",
              "  </style>\n",
              "\n",
              "    <script>\n",
              "      const buttonEl =\n",
              "        document.querySelector('#df-21ab4635-8a73-450d-8dfe-b550372494f2 button.colab-df-convert');\n",
              "      buttonEl.style.display =\n",
              "        google.colab.kernel.accessAllowed ? 'block' : 'none';\n",
              "\n",
              "      async function convertToInteractive(key) {\n",
              "        const element = document.querySelector('#df-21ab4635-8a73-450d-8dfe-b550372494f2');\n",
              "        const dataTable =\n",
              "          await google.colab.kernel.invokeFunction('convertToInteractive',\n",
              "                                                    [key], {});\n",
              "        if (!dataTable) return;\n",
              "\n",
              "        const docLinkHtml = 'Like what you see? Visit the ' +\n",
              "          '<a target=\"_blank\" href=https://colab.research.google.com/notebooks/data_table.ipynb>data table notebook</a>'\n",
              "          + ' to learn more about interactive tables.';\n",
              "        element.innerHTML = '';\n",
              "        dataTable['output_type'] = 'display_data';\n",
              "        await google.colab.output.renderOutput(dataTable, element);\n",
              "        const docLink = document.createElement('div');\n",
              "        docLink.innerHTML = docLinkHtml;\n",
              "        element.appendChild(docLink);\n",
              "      }\n",
              "    </script>\n",
              "  </div>\n",
              "\n",
              "\n",
              "<div id=\"df-8d2d78f6-d026-4c30-95f3-91f5250f6547\">\n",
              "  <button class=\"colab-df-quickchart\" onclick=\"quickchart('df-8d2d78f6-d026-4c30-95f3-91f5250f6547')\"\n",
              "            title=\"Suggest charts\"\n",
              "            style=\"display:none;\">\n",
              "\n",
              "<svg xmlns=\"http://www.w3.org/2000/svg\" height=\"24px\"viewBox=\"0 0 24 24\"\n",
              "     width=\"24px\">\n",
              "    <g>\n",
              "        <path d=\"M19 3H5c-1.1 0-2 .9-2 2v14c0 1.1.9 2 2 2h14c1.1 0 2-.9 2-2V5c0-1.1-.9-2-2-2zM9 17H7v-7h2v7zm4 0h-2V7h2v10zm4 0h-2v-4h2v4z\"/>\n",
              "    </g>\n",
              "</svg>\n",
              "  </button>\n",
              "\n",
              "<style>\n",
              "  .colab-df-quickchart {\n",
              "      --bg-color: #E8F0FE;\n",
              "      --fill-color: #1967D2;\n",
              "      --hover-bg-color: #E2EBFA;\n",
              "      --hover-fill-color: #174EA6;\n",
              "      --disabled-fill-color: #AAA;\n",
              "      --disabled-bg-color: #DDD;\n",
              "  }\n",
              "\n",
              "  [theme=dark] .colab-df-quickchart {\n",
              "      --bg-color: #3B4455;\n",
              "      --fill-color: #D2E3FC;\n",
              "      --hover-bg-color: #434B5C;\n",
              "      --hover-fill-color: #FFFFFF;\n",
              "      --disabled-bg-color: #3B4455;\n",
              "      --disabled-fill-color: #666;\n",
              "  }\n",
              "\n",
              "  .colab-df-quickchart {\n",
              "    background-color: var(--bg-color);\n",
              "    border: none;\n",
              "    border-radius: 50%;\n",
              "    cursor: pointer;\n",
              "    display: none;\n",
              "    fill: var(--fill-color);\n",
              "    height: 32px;\n",
              "    padding: 0;\n",
              "    width: 32px;\n",
              "  }\n",
              "\n",
              "  .colab-df-quickchart:hover {\n",
              "    background-color: var(--hover-bg-color);\n",
              "    box-shadow: 0 1px 2px rgba(60, 64, 67, 0.3), 0 1px 3px 1px rgba(60, 64, 67, 0.15);\n",
              "    fill: var(--button-hover-fill-color);\n",
              "  }\n",
              "\n",
              "  .colab-df-quickchart-complete:disabled,\n",
              "  .colab-df-quickchart-complete:disabled:hover {\n",
              "    background-color: var(--disabled-bg-color);\n",
              "    fill: var(--disabled-fill-color);\n",
              "    box-shadow: none;\n",
              "  }\n",
              "\n",
              "  .colab-df-spinner {\n",
              "    border: 2px solid var(--fill-color);\n",
              "    border-color: transparent;\n",
              "    border-bottom-color: var(--fill-color);\n",
              "    animation:\n",
              "      spin 1s steps(1) infinite;\n",
              "  }\n",
              "\n",
              "  @keyframes spin {\n",
              "    0% {\n",
              "      border-color: transparent;\n",
              "      border-bottom-color: var(--fill-color);\n",
              "      border-left-color: var(--fill-color);\n",
              "    }\n",
              "    20% {\n",
              "      border-color: transparent;\n",
              "      border-left-color: var(--fill-color);\n",
              "      border-top-color: var(--fill-color);\n",
              "    }\n",
              "    30% {\n",
              "      border-color: transparent;\n",
              "      border-left-color: var(--fill-color);\n",
              "      border-top-color: var(--fill-color);\n",
              "      border-right-color: var(--fill-color);\n",
              "    }\n",
              "    40% {\n",
              "      border-color: transparent;\n",
              "      border-right-color: var(--fill-color);\n",
              "      border-top-color: var(--fill-color);\n",
              "    }\n",
              "    60% {\n",
              "      border-color: transparent;\n",
              "      border-right-color: var(--fill-color);\n",
              "    }\n",
              "    80% {\n",
              "      border-color: transparent;\n",
              "      border-right-color: var(--fill-color);\n",
              "      border-bottom-color: var(--fill-color);\n",
              "    }\n",
              "    90% {\n",
              "      border-color: transparent;\n",
              "      border-bottom-color: var(--fill-color);\n",
              "    }\n",
              "  }\n",
              "</style>\n",
              "\n",
              "  <script>\n",
              "    async function quickchart(key) {\n",
              "      const quickchartButtonEl =\n",
              "        document.querySelector('#' + key + ' button');\n",
              "      quickchartButtonEl.disabled = true;  // To prevent multiple clicks.\n",
              "      quickchartButtonEl.classList.add('colab-df-spinner');\n",
              "      try {\n",
              "        const charts = await google.colab.kernel.invokeFunction(\n",
              "            'suggestCharts', [key], {});\n",
              "      } catch (error) {\n",
              "        console.error('Error during call to suggestCharts:', error);\n",
              "      }\n",
              "      quickchartButtonEl.classList.remove('colab-df-spinner');\n",
              "      quickchartButtonEl.classList.add('colab-df-quickchart-complete');\n",
              "    }\n",
              "    (() => {\n",
              "      let quickchartButtonEl =\n",
              "        document.querySelector('#df-8d2d78f6-d026-4c30-95f3-91f5250f6547 button');\n",
              "      quickchartButtonEl.style.display =\n",
              "        google.colab.kernel.accessAllowed ? 'block' : 'none';\n",
              "    })();\n",
              "  </script>\n",
              "</div>\n",
              "    </div>\n",
              "  </div>\n"
            ]
          },
          "metadata": {},
          "execution_count": 10
        }
      ]
    },
    {
      "cell_type": "markdown",
      "source": [
        "### **Tokenize, remove stopwords,Normalize**"
      ],
      "metadata": {
        "id": "M6qoD20qq2qJ"
      }
    },
    {
      "cell_type": "code",
      "source": [
        "# Function to remove stopwords\n",
        "def remove_stopwords(text):\n",
        "\n",
        "    tokens = word_tokenize(text)\n",
        "    filtered_tokens = [word.lower() for word in tokens if word.lower() not in stop_words] #Lower is used to normalize al the words make them in lower case\n",
        "    print('Tokens are:',tokens,'\\n')\n",
        "    return ' '.join(filtered_tokens)\n",
        "\n",
        "# Apply the remove_stopwords function to the 'raw_text' column\n",
        "docs_df['processed_text'] = docs_df['raw_text'].apply(remove_stopwords)\n",
        "\n"
      ],
      "metadata": {
        "colab": {
          "base_uri": "https://localhost:8080/"
        },
        "id": "Blc5TkiBV0OZ",
        "outputId": "1b968773-aaf3-41a2-d72a-fcbdb7d524cb"
      },
      "execution_count": null,
      "outputs": [
        {
          "output_type": "stream",
          "name": "stdout",
          "text": [
            "Tokens are: ['Python', 'programming', 'language', 'is', 'widely', 'used', 'in', 'data', 'science', '.'] \n",
            "\n",
            "Tokens are: ['Information', 'retrieval', 'techniques', 'are', 'crucial', 'for', 'efficient', 'data', 'searching', '.'] \n",
            "\n",
            "Tokens are: ['I', \"'m\", 'a', 'Data', 'Scientist', 'studing', 'information', 'retrieval', '.'] \n",
            "\n",
            "Tokens are: ['Boolean', 'model', 'is', 'a', 'mathematical', 'model', 'for', 'information', 'retrieval', '.'] \n",
            "\n",
            "Tokens are: ['I', 'think', 'that', 'data', 'retrieval', 'techniques', 'play', 'a', 'key', 'role', 'in', 'information', 'systems', '.'] \n",
            "\n",
            "Tokens are: ['IR', 'system', 'plays', 'a', 'very', 'essential', 'role', 'in', 'Data', 'science', 'field'] \n",
            "\n"
          ]
        }
      ]
    },
    {
      "cell_type": "code",
      "source": [
        "# Display the  processed DataFrames\n",
        "print('dataFrame after processing:\\n')\n",
        "docs_df"
      ],
      "metadata": {
        "colab": {
          "base_uri": "https://localhost:8080/",
          "height": 272
        },
        "id": "pP7ZGoKNkAZn",
        "outputId": "1bddbd25-3f1c-4cd9-a492-8b900aef09d0"
      },
      "execution_count": null,
      "outputs": [
        {
          "output_type": "stream",
          "name": "stdout",
          "text": [
            "dataFrame after processing:\n",
            "\n"
          ]
        },
        {
          "output_type": "execute_result",
          "data": {
            "text/plain": [
              "  docno  \\\n",
              "0    d0   \n",
              "1    d1   \n",
              "2    d2   \n",
              "3    d3   \n",
              "4    d4   \n",
              "5    d5   \n",
              "\n",
              "                                                                         raw_text  \\\n",
              "0                     Python programming language is widely used in data science.   \n",
              "1      Information retrieval techniques are crucial for efficient data searching.   \n",
              "2                             I'm a Data Scientist studing information retrieval.   \n",
              "3                Boolean model is a mathematical model for information retrieval.   \n",
              "4  I think that data retrieval techniques play a key role in information systems.   \n",
              "5                     IR system plays a very essential role in Data science field   \n",
              "\n",
              "                                                        processed_text  \n",
              "0               python programming language widely used data science .  \n",
              "1  information retrieval techniques crucial efficient data searching .  \n",
              "2                    'm data scientist studing information retrieval .  \n",
              "3             boolean model mathematical model information retrieval .  \n",
              "4  think data retrieval techniques play key role information systems .  \n",
              "5                    ir system plays essential role data science field  "
            ],
            "text/html": [
              "\n",
              "  <div id=\"df-79731b65-a8a6-4d0e-a74d-3909f5d14c01\" class=\"colab-df-container\">\n",
              "    <div>\n",
              "<style scoped>\n",
              "    .dataframe tbody tr th:only-of-type {\n",
              "        vertical-align: middle;\n",
              "    }\n",
              "\n",
              "    .dataframe tbody tr th {\n",
              "        vertical-align: top;\n",
              "    }\n",
              "\n",
              "    .dataframe thead th {\n",
              "        text-align: right;\n",
              "    }\n",
              "</style>\n",
              "<table border=\"1\" class=\"dataframe\">\n",
              "  <thead>\n",
              "    <tr style=\"text-align: right;\">\n",
              "      <th></th>\n",
              "      <th>docno</th>\n",
              "      <th>raw_text</th>\n",
              "      <th>processed_text</th>\n",
              "    </tr>\n",
              "  </thead>\n",
              "  <tbody>\n",
              "    <tr>\n",
              "      <th>0</th>\n",
              "      <td>d0</td>\n",
              "      <td>Python programming language is widely used in data science.</td>\n",
              "      <td>python programming language widely used data science .</td>\n",
              "    </tr>\n",
              "    <tr>\n",
              "      <th>1</th>\n",
              "      <td>d1</td>\n",
              "      <td>Information retrieval techniques are crucial for efficient data searching.</td>\n",
              "      <td>information retrieval techniques crucial efficient data searching .</td>\n",
              "    </tr>\n",
              "    <tr>\n",
              "      <th>2</th>\n",
              "      <td>d2</td>\n",
              "      <td>I'm a Data Scientist studing information retrieval.</td>\n",
              "      <td>'m data scientist studing information retrieval .</td>\n",
              "    </tr>\n",
              "    <tr>\n",
              "      <th>3</th>\n",
              "      <td>d3</td>\n",
              "      <td>Boolean model is a mathematical model for information retrieval.</td>\n",
              "      <td>boolean model mathematical model information retrieval .</td>\n",
              "    </tr>\n",
              "    <tr>\n",
              "      <th>4</th>\n",
              "      <td>d4</td>\n",
              "      <td>I think that data retrieval techniques play a key role in information systems.</td>\n",
              "      <td>think data retrieval techniques play key role information systems .</td>\n",
              "    </tr>\n",
              "    <tr>\n",
              "      <th>5</th>\n",
              "      <td>d5</td>\n",
              "      <td>IR system plays a very essential role in Data science field</td>\n",
              "      <td>ir system plays essential role data science field</td>\n",
              "    </tr>\n",
              "  </tbody>\n",
              "</table>\n",
              "</div>\n",
              "    <div class=\"colab-df-buttons\">\n",
              "\n",
              "  <div class=\"colab-df-container\">\n",
              "    <button class=\"colab-df-convert\" onclick=\"convertToInteractive('df-79731b65-a8a6-4d0e-a74d-3909f5d14c01')\"\n",
              "            title=\"Convert this dataframe to an interactive table.\"\n",
              "            style=\"display:none;\">\n",
              "\n",
              "  <svg xmlns=\"http://www.w3.org/2000/svg\" height=\"24px\" viewBox=\"0 -960 960 960\">\n",
              "    <path d=\"M120-120v-720h720v720H120Zm60-500h600v-160H180v160Zm220 220h160v-160H400v160Zm0 220h160v-160H400v160ZM180-400h160v-160H180v160Zm440 0h160v-160H620v160ZM180-180h160v-160H180v160Zm440 0h160v-160H620v160Z\"/>\n",
              "  </svg>\n",
              "    </button>\n",
              "\n",
              "  <style>\n",
              "    .colab-df-container {\n",
              "      display:flex;\n",
              "      gap: 12px;\n",
              "    }\n",
              "\n",
              "    .colab-df-convert {\n",
              "      background-color: #E8F0FE;\n",
              "      border: none;\n",
              "      border-radius: 50%;\n",
              "      cursor: pointer;\n",
              "      display: none;\n",
              "      fill: #1967D2;\n",
              "      height: 32px;\n",
              "      padding: 0 0 0 0;\n",
              "      width: 32px;\n",
              "    }\n",
              "\n",
              "    .colab-df-convert:hover {\n",
              "      background-color: #E2EBFA;\n",
              "      box-shadow: 0px 1px 2px rgba(60, 64, 67, 0.3), 0px 1px 3px 1px rgba(60, 64, 67, 0.15);\n",
              "      fill: #174EA6;\n",
              "    }\n",
              "\n",
              "    .colab-df-buttons div {\n",
              "      margin-bottom: 4px;\n",
              "    }\n",
              "\n",
              "    [theme=dark] .colab-df-convert {\n",
              "      background-color: #3B4455;\n",
              "      fill: #D2E3FC;\n",
              "    }\n",
              "\n",
              "    [theme=dark] .colab-df-convert:hover {\n",
              "      background-color: #434B5C;\n",
              "      box-shadow: 0px 1px 3px 1px rgba(0, 0, 0, 0.15);\n",
              "      filter: drop-shadow(0px 1px 2px rgba(0, 0, 0, 0.3));\n",
              "      fill: #FFFFFF;\n",
              "    }\n",
              "  </style>\n",
              "\n",
              "    <script>\n",
              "      const buttonEl =\n",
              "        document.querySelector('#df-79731b65-a8a6-4d0e-a74d-3909f5d14c01 button.colab-df-convert');\n",
              "      buttonEl.style.display =\n",
              "        google.colab.kernel.accessAllowed ? 'block' : 'none';\n",
              "\n",
              "      async function convertToInteractive(key) {\n",
              "        const element = document.querySelector('#df-79731b65-a8a6-4d0e-a74d-3909f5d14c01');\n",
              "        const dataTable =\n",
              "          await google.colab.kernel.invokeFunction('convertToInteractive',\n",
              "                                                    [key], {});\n",
              "        if (!dataTable) return;\n",
              "\n",
              "        const docLinkHtml = 'Like what you see? Visit the ' +\n",
              "          '<a target=\"_blank\" href=https://colab.research.google.com/notebooks/data_table.ipynb>data table notebook</a>'\n",
              "          + ' to learn more about interactive tables.';\n",
              "        element.innerHTML = '';\n",
              "        dataTable['output_type'] = 'display_data';\n",
              "        await google.colab.output.renderOutput(dataTable, element);\n",
              "        const docLink = document.createElement('div');\n",
              "        docLink.innerHTML = docLinkHtml;\n",
              "        element.appendChild(docLink);\n",
              "      }\n",
              "    </script>\n",
              "  </div>\n",
              "\n",
              "\n",
              "<div id=\"df-a68259aa-6775-43e8-8686-9c9f292e9294\">\n",
              "  <button class=\"colab-df-quickchart\" onclick=\"quickchart('df-a68259aa-6775-43e8-8686-9c9f292e9294')\"\n",
              "            title=\"Suggest charts\"\n",
              "            style=\"display:none;\">\n",
              "\n",
              "<svg xmlns=\"http://www.w3.org/2000/svg\" height=\"24px\"viewBox=\"0 0 24 24\"\n",
              "     width=\"24px\">\n",
              "    <g>\n",
              "        <path d=\"M19 3H5c-1.1 0-2 .9-2 2v14c0 1.1.9 2 2 2h14c1.1 0 2-.9 2-2V5c0-1.1-.9-2-2-2zM9 17H7v-7h2v7zm4 0h-2V7h2v10zm4 0h-2v-4h2v4z\"/>\n",
              "    </g>\n",
              "</svg>\n",
              "  </button>\n",
              "\n",
              "<style>\n",
              "  .colab-df-quickchart {\n",
              "      --bg-color: #E8F0FE;\n",
              "      --fill-color: #1967D2;\n",
              "      --hover-bg-color: #E2EBFA;\n",
              "      --hover-fill-color: #174EA6;\n",
              "      --disabled-fill-color: #AAA;\n",
              "      --disabled-bg-color: #DDD;\n",
              "  }\n",
              "\n",
              "  [theme=dark] .colab-df-quickchart {\n",
              "      --bg-color: #3B4455;\n",
              "      --fill-color: #D2E3FC;\n",
              "      --hover-bg-color: #434B5C;\n",
              "      --hover-fill-color: #FFFFFF;\n",
              "      --disabled-bg-color: #3B4455;\n",
              "      --disabled-fill-color: #666;\n",
              "  }\n",
              "\n",
              "  .colab-df-quickchart {\n",
              "    background-color: var(--bg-color);\n",
              "    border: none;\n",
              "    border-radius: 50%;\n",
              "    cursor: pointer;\n",
              "    display: none;\n",
              "    fill: var(--fill-color);\n",
              "    height: 32px;\n",
              "    padding: 0;\n",
              "    width: 32px;\n",
              "  }\n",
              "\n",
              "  .colab-df-quickchart:hover {\n",
              "    background-color: var(--hover-bg-color);\n",
              "    box-shadow: 0 1px 2px rgba(60, 64, 67, 0.3), 0 1px 3px 1px rgba(60, 64, 67, 0.15);\n",
              "    fill: var(--button-hover-fill-color);\n",
              "  }\n",
              "\n",
              "  .colab-df-quickchart-complete:disabled,\n",
              "  .colab-df-quickchart-complete:disabled:hover {\n",
              "    background-color: var(--disabled-bg-color);\n",
              "    fill: var(--disabled-fill-color);\n",
              "    box-shadow: none;\n",
              "  }\n",
              "\n",
              "  .colab-df-spinner {\n",
              "    border: 2px solid var(--fill-color);\n",
              "    border-color: transparent;\n",
              "    border-bottom-color: var(--fill-color);\n",
              "    animation:\n",
              "      spin 1s steps(1) infinite;\n",
              "  }\n",
              "\n",
              "  @keyframes spin {\n",
              "    0% {\n",
              "      border-color: transparent;\n",
              "      border-bottom-color: var(--fill-color);\n",
              "      border-left-color: var(--fill-color);\n",
              "    }\n",
              "    20% {\n",
              "      border-color: transparent;\n",
              "      border-left-color: var(--fill-color);\n",
              "      border-top-color: var(--fill-color);\n",
              "    }\n",
              "    30% {\n",
              "      border-color: transparent;\n",
              "      border-left-color: var(--fill-color);\n",
              "      border-top-color: var(--fill-color);\n",
              "      border-right-color: var(--fill-color);\n",
              "    }\n",
              "    40% {\n",
              "      border-color: transparent;\n",
              "      border-right-color: var(--fill-color);\n",
              "      border-top-color: var(--fill-color);\n",
              "    }\n",
              "    60% {\n",
              "      border-color: transparent;\n",
              "      border-right-color: var(--fill-color);\n",
              "    }\n",
              "    80% {\n",
              "      border-color: transparent;\n",
              "      border-right-color: var(--fill-color);\n",
              "      border-bottom-color: var(--fill-color);\n",
              "    }\n",
              "    90% {\n",
              "      border-color: transparent;\n",
              "      border-bottom-color: var(--fill-color);\n",
              "    }\n",
              "  }\n",
              "</style>\n",
              "\n",
              "  <script>\n",
              "    async function quickchart(key) {\n",
              "      const quickchartButtonEl =\n",
              "        document.querySelector('#' + key + ' button');\n",
              "      quickchartButtonEl.disabled = true;  // To prevent multiple clicks.\n",
              "      quickchartButtonEl.classList.add('colab-df-spinner');\n",
              "      try {\n",
              "        const charts = await google.colab.kernel.invokeFunction(\n",
              "            'suggestCharts', [key], {});\n",
              "      } catch (error) {\n",
              "        console.error('Error during call to suggestCharts:', error);\n",
              "      }\n",
              "      quickchartButtonEl.classList.remove('colab-df-spinner');\n",
              "      quickchartButtonEl.classList.add('colab-df-quickchart-complete');\n",
              "    }\n",
              "    (() => {\n",
              "      let quickchartButtonEl =\n",
              "        document.querySelector('#df-a68259aa-6775-43e8-8686-9c9f292e9294 button');\n",
              "      quickchartButtonEl.style.display =\n",
              "        google.colab.kernel.accessAllowed ? 'block' : 'none';\n",
              "    })();\n",
              "  </script>\n",
              "</div>\n",
              "    </div>\n",
              "  </div>\n"
            ]
          },
          "metadata": {},
          "execution_count": 12
        }
      ]
    },
    {
      "cell_type": "markdown",
      "metadata": {
        "id": "YZY1yWSgr_jj"
      },
      "source": [
        "The last processing step is to **stem** the terms in each document."
      ]
    },
    {
      "cell_type": "code",
      "source": [
        "from nltk.stem import *\n",
        "from nltk.stem.porter import *"
      ],
      "metadata": {
        "id": "m7jzoWZVmiCi"
      },
      "execution_count": null,
      "outputs": []
    },
    {
      "cell_type": "code",
      "source": [
        "# Initialize Porter stemmer\n",
        "stemmer = PorterStemmer()"
      ],
      "metadata": {
        "id": "ZDIdl1F1sZFa"
      },
      "execution_count": null,
      "outputs": []
    },
    {
      "cell_type": "code",
      "source": [
        "def Steem_text(text):\n",
        "\n",
        "    tokens = word_tokenize(text)\n",
        "    stemmed_tokens = [stemmer.stem(word) for word in tokens]\n",
        "    # print (tokens)\n",
        "    return ' '.join(stemmed_tokens)\n",
        "\n"
      ],
      "metadata": {
        "id": "2HGU7-don9ky"
      },
      "execution_count": null,
      "outputs": []
    },
    {
      "cell_type": "code",
      "source": [
        "# Apply stemming\n",
        "\n",
        "docs_df['processed_text']=docs_df['processed_text'].apply(Steem_text)\n",
        "docs_df"
      ],
      "metadata": {
        "colab": {
          "base_uri": "https://localhost:8080/",
          "height": 238
        },
        "id": "RPwe1sStr2H8",
        "outputId": "a42f9add-ab98-4e49-9e31-c0e220d38429"
      },
      "execution_count": null,
      "outputs": [
        {
          "output_type": "execute_result",
          "data": {
            "text/plain": [
              "  docno  \\\n",
              "0    d0   \n",
              "1    d1   \n",
              "2    d2   \n",
              "3    d3   \n",
              "4    d4   \n",
              "5    d5   \n",
              "\n",
              "                                                                         raw_text  \\\n",
              "0                     Python programming language is widely used in data science.   \n",
              "1      Information retrieval techniques are crucial for efficient data searching.   \n",
              "2                             I'm a Data Scientist studing information retrieval.   \n",
              "3                Boolean model is a mathematical model for information retrieval.   \n",
              "4  I think that data retrieval techniques play a key role in information systems.   \n",
              "5                     IR system plays a very essential role in Data science field   \n",
              "\n",
              "                                              processed_text  \n",
              "0              python program languag wide use data scienc .  \n",
              "1       inform retriev techniqu crucial effici data search .  \n",
              "2                   'm data scientist stude inform retriev .  \n",
              "3              boolean model mathemat model inform retriev .  \n",
              "4  think data retriev techniqu play key role inform system .  \n",
              "5              ir system play essenti role data scienc field  "
            ],
            "text/html": [
              "\n",
              "  <div id=\"df-a2c08e9d-af6c-464e-8dbd-7eb5ccef97c5\" class=\"colab-df-container\">\n",
              "    <div>\n",
              "<style scoped>\n",
              "    .dataframe tbody tr th:only-of-type {\n",
              "        vertical-align: middle;\n",
              "    }\n",
              "\n",
              "    .dataframe tbody tr th {\n",
              "        vertical-align: top;\n",
              "    }\n",
              "\n",
              "    .dataframe thead th {\n",
              "        text-align: right;\n",
              "    }\n",
              "</style>\n",
              "<table border=\"1\" class=\"dataframe\">\n",
              "  <thead>\n",
              "    <tr style=\"text-align: right;\">\n",
              "      <th></th>\n",
              "      <th>docno</th>\n",
              "      <th>raw_text</th>\n",
              "      <th>processed_text</th>\n",
              "    </tr>\n",
              "  </thead>\n",
              "  <tbody>\n",
              "    <tr>\n",
              "      <th>0</th>\n",
              "      <td>d0</td>\n",
              "      <td>Python programming language is widely used in data science.</td>\n",
              "      <td>python program languag wide use data scienc .</td>\n",
              "    </tr>\n",
              "    <tr>\n",
              "      <th>1</th>\n",
              "      <td>d1</td>\n",
              "      <td>Information retrieval techniques are crucial for efficient data searching.</td>\n",
              "      <td>inform retriev techniqu crucial effici data search .</td>\n",
              "    </tr>\n",
              "    <tr>\n",
              "      <th>2</th>\n",
              "      <td>d2</td>\n",
              "      <td>I'm a Data Scientist studing information retrieval.</td>\n",
              "      <td>'m data scientist stude inform retriev .</td>\n",
              "    </tr>\n",
              "    <tr>\n",
              "      <th>3</th>\n",
              "      <td>d3</td>\n",
              "      <td>Boolean model is a mathematical model for information retrieval.</td>\n",
              "      <td>boolean model mathemat model inform retriev .</td>\n",
              "    </tr>\n",
              "    <tr>\n",
              "      <th>4</th>\n",
              "      <td>d4</td>\n",
              "      <td>I think that data retrieval techniques play a key role in information systems.</td>\n",
              "      <td>think data retriev techniqu play key role inform system .</td>\n",
              "    </tr>\n",
              "    <tr>\n",
              "      <th>5</th>\n",
              "      <td>d5</td>\n",
              "      <td>IR system plays a very essential role in Data science field</td>\n",
              "      <td>ir system play essenti role data scienc field</td>\n",
              "    </tr>\n",
              "  </tbody>\n",
              "</table>\n",
              "</div>\n",
              "    <div class=\"colab-df-buttons\">\n",
              "\n",
              "  <div class=\"colab-df-container\">\n",
              "    <button class=\"colab-df-convert\" onclick=\"convertToInteractive('df-a2c08e9d-af6c-464e-8dbd-7eb5ccef97c5')\"\n",
              "            title=\"Convert this dataframe to an interactive table.\"\n",
              "            style=\"display:none;\">\n",
              "\n",
              "  <svg xmlns=\"http://www.w3.org/2000/svg\" height=\"24px\" viewBox=\"0 -960 960 960\">\n",
              "    <path d=\"M120-120v-720h720v720H120Zm60-500h600v-160H180v160Zm220 220h160v-160H400v160Zm0 220h160v-160H400v160ZM180-400h160v-160H180v160Zm440 0h160v-160H620v160ZM180-180h160v-160H180v160Zm440 0h160v-160H620v160Z\"/>\n",
              "  </svg>\n",
              "    </button>\n",
              "\n",
              "  <style>\n",
              "    .colab-df-container {\n",
              "      display:flex;\n",
              "      gap: 12px;\n",
              "    }\n",
              "\n",
              "    .colab-df-convert {\n",
              "      background-color: #E8F0FE;\n",
              "      border: none;\n",
              "      border-radius: 50%;\n",
              "      cursor: pointer;\n",
              "      display: none;\n",
              "      fill: #1967D2;\n",
              "      height: 32px;\n",
              "      padding: 0 0 0 0;\n",
              "      width: 32px;\n",
              "    }\n",
              "\n",
              "    .colab-df-convert:hover {\n",
              "      background-color: #E2EBFA;\n",
              "      box-shadow: 0px 1px 2px rgba(60, 64, 67, 0.3), 0px 1px 3px 1px rgba(60, 64, 67, 0.15);\n",
              "      fill: #174EA6;\n",
              "    }\n",
              "\n",
              "    .colab-df-buttons div {\n",
              "      margin-bottom: 4px;\n",
              "    }\n",
              "\n",
              "    [theme=dark] .colab-df-convert {\n",
              "      background-color: #3B4455;\n",
              "      fill: #D2E3FC;\n",
              "    }\n",
              "\n",
              "    [theme=dark] .colab-df-convert:hover {\n",
              "      background-color: #434B5C;\n",
              "      box-shadow: 0px 1px 3px 1px rgba(0, 0, 0, 0.15);\n",
              "      filter: drop-shadow(0px 1px 2px rgba(0, 0, 0, 0.3));\n",
              "      fill: #FFFFFF;\n",
              "    }\n",
              "  </style>\n",
              "\n",
              "    <script>\n",
              "      const buttonEl =\n",
              "        document.querySelector('#df-a2c08e9d-af6c-464e-8dbd-7eb5ccef97c5 button.colab-df-convert');\n",
              "      buttonEl.style.display =\n",
              "        google.colab.kernel.accessAllowed ? 'block' : 'none';\n",
              "\n",
              "      async function convertToInteractive(key) {\n",
              "        const element = document.querySelector('#df-a2c08e9d-af6c-464e-8dbd-7eb5ccef97c5');\n",
              "        const dataTable =\n",
              "          await google.colab.kernel.invokeFunction('convertToInteractive',\n",
              "                                                    [key], {});\n",
              "        if (!dataTable) return;\n",
              "\n",
              "        const docLinkHtml = 'Like what you see? Visit the ' +\n",
              "          '<a target=\"_blank\" href=https://colab.research.google.com/notebooks/data_table.ipynb>data table notebook</a>'\n",
              "          + ' to learn more about interactive tables.';\n",
              "        element.innerHTML = '';\n",
              "        dataTable['output_type'] = 'display_data';\n",
              "        await google.colab.output.renderOutput(dataTable, element);\n",
              "        const docLink = document.createElement('div');\n",
              "        docLink.innerHTML = docLinkHtml;\n",
              "        element.appendChild(docLink);\n",
              "      }\n",
              "    </script>\n",
              "  </div>\n",
              "\n",
              "\n",
              "<div id=\"df-9180cb46-f698-4199-a9fa-00665ca891bb\">\n",
              "  <button class=\"colab-df-quickchart\" onclick=\"quickchart('df-9180cb46-f698-4199-a9fa-00665ca891bb')\"\n",
              "            title=\"Suggest charts\"\n",
              "            style=\"display:none;\">\n",
              "\n",
              "<svg xmlns=\"http://www.w3.org/2000/svg\" height=\"24px\"viewBox=\"0 0 24 24\"\n",
              "     width=\"24px\">\n",
              "    <g>\n",
              "        <path d=\"M19 3H5c-1.1 0-2 .9-2 2v14c0 1.1.9 2 2 2h14c1.1 0 2-.9 2-2V5c0-1.1-.9-2-2-2zM9 17H7v-7h2v7zm4 0h-2V7h2v10zm4 0h-2v-4h2v4z\"/>\n",
              "    </g>\n",
              "</svg>\n",
              "  </button>\n",
              "\n",
              "<style>\n",
              "  .colab-df-quickchart {\n",
              "      --bg-color: #E8F0FE;\n",
              "      --fill-color: #1967D2;\n",
              "      --hover-bg-color: #E2EBFA;\n",
              "      --hover-fill-color: #174EA6;\n",
              "      --disabled-fill-color: #AAA;\n",
              "      --disabled-bg-color: #DDD;\n",
              "  }\n",
              "\n",
              "  [theme=dark] .colab-df-quickchart {\n",
              "      --bg-color: #3B4455;\n",
              "      --fill-color: #D2E3FC;\n",
              "      --hover-bg-color: #434B5C;\n",
              "      --hover-fill-color: #FFFFFF;\n",
              "      --disabled-bg-color: #3B4455;\n",
              "      --disabled-fill-color: #666;\n",
              "  }\n",
              "\n",
              "  .colab-df-quickchart {\n",
              "    background-color: var(--bg-color);\n",
              "    border: none;\n",
              "    border-radius: 50%;\n",
              "    cursor: pointer;\n",
              "    display: none;\n",
              "    fill: var(--fill-color);\n",
              "    height: 32px;\n",
              "    padding: 0;\n",
              "    width: 32px;\n",
              "  }\n",
              "\n",
              "  .colab-df-quickchart:hover {\n",
              "    background-color: var(--hover-bg-color);\n",
              "    box-shadow: 0 1px 2px rgba(60, 64, 67, 0.3), 0 1px 3px 1px rgba(60, 64, 67, 0.15);\n",
              "    fill: var(--button-hover-fill-color);\n",
              "  }\n",
              "\n",
              "  .colab-df-quickchart-complete:disabled,\n",
              "  .colab-df-quickchart-complete:disabled:hover {\n",
              "    background-color: var(--disabled-bg-color);\n",
              "    fill: var(--disabled-fill-color);\n",
              "    box-shadow: none;\n",
              "  }\n",
              "\n",
              "  .colab-df-spinner {\n",
              "    border: 2px solid var(--fill-color);\n",
              "    border-color: transparent;\n",
              "    border-bottom-color: var(--fill-color);\n",
              "    animation:\n",
              "      spin 1s steps(1) infinite;\n",
              "  }\n",
              "\n",
              "  @keyframes spin {\n",
              "    0% {\n",
              "      border-color: transparent;\n",
              "      border-bottom-color: var(--fill-color);\n",
              "      border-left-color: var(--fill-color);\n",
              "    }\n",
              "    20% {\n",
              "      border-color: transparent;\n",
              "      border-left-color: var(--fill-color);\n",
              "      border-top-color: var(--fill-color);\n",
              "    }\n",
              "    30% {\n",
              "      border-color: transparent;\n",
              "      border-left-color: var(--fill-color);\n",
              "      border-top-color: var(--fill-color);\n",
              "      border-right-color: var(--fill-color);\n",
              "    }\n",
              "    40% {\n",
              "      border-color: transparent;\n",
              "      border-right-color: var(--fill-color);\n",
              "      border-top-color: var(--fill-color);\n",
              "    }\n",
              "    60% {\n",
              "      border-color: transparent;\n",
              "      border-right-color: var(--fill-color);\n",
              "    }\n",
              "    80% {\n",
              "      border-color: transparent;\n",
              "      border-right-color: var(--fill-color);\n",
              "      border-bottom-color: var(--fill-color);\n",
              "    }\n",
              "    90% {\n",
              "      border-color: transparent;\n",
              "      border-bottom-color: var(--fill-color);\n",
              "    }\n",
              "  }\n",
              "</style>\n",
              "\n",
              "  <script>\n",
              "    async function quickchart(key) {\n",
              "      const quickchartButtonEl =\n",
              "        document.querySelector('#' + key + ' button');\n",
              "      quickchartButtonEl.disabled = true;  // To prevent multiple clicks.\n",
              "      quickchartButtonEl.classList.add('colab-df-spinner');\n",
              "      try {\n",
              "        const charts = await google.colab.kernel.invokeFunction(\n",
              "            'suggestCharts', [key], {});\n",
              "      } catch (error) {\n",
              "        console.error('Error during call to suggestCharts:', error);\n",
              "      }\n",
              "      quickchartButtonEl.classList.remove('colab-df-spinner');\n",
              "      quickchartButtonEl.classList.add('colab-df-quickchart-complete');\n",
              "    }\n",
              "    (() => {\n",
              "      let quickchartButtonEl =\n",
              "        document.querySelector('#df-9180cb46-f698-4199-a9fa-00665ca891bb button');\n",
              "      quickchartButtonEl.style.display =\n",
              "        google.colab.kernel.accessAllowed ? 'block' : 'none';\n",
              "    })();\n",
              "  </script>\n",
              "</div>\n",
              "    </div>\n",
              "  </div>\n"
            ]
          },
          "metadata": {},
          "execution_count": 17
        }
      ]
    },
    {
      "cell_type": "markdown",
      "source": [
        "### **Indexing:**"
      ],
      "metadata": {
        "id": "8Oul4CImt_vW"
      }
    },
    {
      "cell_type": "markdown",
      "metadata": {
        "id": "KA-HvUt_Yedy"
      },
      "source": [
        "Next, we will index the dataframe's documents. The index, with all its data structures, is saved into a directory called **myFirstIndex**.\n",
        "\n",
        "**[DFIndexer](https://pyterrier.readthedocs.io/en/latest/terrier-indexing.html)**: Use this Indexer if you wish to index a pandas.Dataframe\n",
        "\n",
        "Constructor called by all indexer subclasses. All arguments listed below are available in IterDictIndexer, DFIndexer, TRECCollectionIndexer and FilesIndsexer."
      ]
    },
    {
      "cell_type": "code",
      "execution_count": null,
      "metadata": {
        "colab": {
          "base_uri": "https://localhost:8080/"
        },
        "id": "OOwBC5Rwt8jk",
        "outputId": "2efe4cc5-35e6-47b1-85ea-e48ea2339e9f"
      },
      "outputs": [
        {
          "output_type": "stream",
          "name": "stdout",
          "text": [
            "./myFirstIndex/data.properties\n"
          ]
        }
      ],
      "source": [
        "indexer = pt.DFIndexer(\"./myFirstIndex\", overwrite=True)\n",
        "\n",
        "# index the text, record the docnos as metadata\n",
        "index_ref = indexer.index(docs_df[\"processed_text\"], docs_df[\"docno\"])"
      ]
    },
    {
      "cell_type": "markdown",
      "metadata": {
        "id": "bRvl7XfAZlOM"
      },
      "source": [
        "#### **Explore the index**\n",
        "An index has several data structures:\n",
        "\n",
        "*    **the Lexicon** - the vocabulary of the index, including statistics of the terms, and a pointer into the inverted index.\n",
        "* **the inverted index (a PostingIndex**) - contains the posting list for each term, detailing the frequency in which a term appears in that document .\n",
        "* **the DocumentIndex** - contains the length of the document (and other field lengths).  \n",
        "* **the direct index (also a PostingIndex)** - contains a posting list for each document, detailing which terms occuring in that document and which frequency. The presence of the direct index depends on the IndexingType that has beenapplied - single-pass and some memory indices do not provide a direct index.\n"
      ]
    },
    {
      "cell_type": "markdown",
      "metadata": {
        "id": "F-LtoA8vymt_"
      },
      "source": [
        "Let's check the files the index files created."
      ]
    },
    {
      "cell_type": "code",
      "execution_count": null,
      "metadata": {
        "colab": {
          "base_uri": "https://localhost:8080/"
        },
        "id": "gxVw5bIYZ5uw",
        "outputId": "a4196ca8-e659-4c59-d143-112319b22dd9"
      },
      "outputs": [
        {
          "output_type": "stream",
          "name": "stdout",
          "text": [
            "./myFirstIndex/data.properties\n",
            "Number of documents: 6\n",
            "Number of terms: 25\n",
            "Number of postings: 40\n",
            "Number of fields: 0\n",
            "Number of tokens: 41\n",
            "Field names: []\n",
            "Positions:   false\n",
            "\n"
          ]
        }
      ],
      "source": [
        "print(index_ref.toString())\n",
        "#we will first load the index\n",
        "index = pt.IndexFactory.of(index_ref)\n",
        "#we will call getCollectionStatistics() to check the stats\n",
        "print(index.getCollectionStatistics().toString())"
      ]
    },
    {
      "cell_type": "markdown",
      "metadata": {
        "id": "rBzDWtM2atGK"
      },
      "source": [
        "We can check the lexicon which is the **vocabulary** of the collection.\n",
        "\n",
        "* Nt is the number of unique documents that each term occurs in.\n",
        "* TF is the total number of occurrences – some weighting models use this instead of Nt.\n",
        "* The numbers in the @{} are a pointer – they tell Terrier where the postings are for that term in the inverted index data structure.\n"
      ]
    },
    {
      "cell_type": "code",
      "execution_count": null,
      "metadata": {
        "colab": {
          "base_uri": "https://localhost:8080/"
        },
        "id": "ElPWT1ZtawgJ",
        "outputId": "aa1c7bfa-7f78-4061-f628-edfa360e0492"
      },
      "outputs": [
        {
          "output_type": "stream",
          "name": "stdout",
          "text": [
            "boolean -> term16 Nt=1 TF=1 maxTF=1 @{0 0 0} \n",
            "crucial -> term7 Nt=1 TF=1 maxTF=1 @{0 0 6} \n",
            "data -> term2 Nt=5 TF=5 maxTF=1 @{0 1 2} \n",
            "effici -> term10 Nt=1 TF=1 maxTF=1 @{0 2 6} \n",
            "essenti -> term22 Nt=1 TF=1 maxTF=1 @{0 3 2} \n",
            "field -> term23 Nt=1 TF=1 maxTF=1 @{0 4 0} \n",
            "inform -> term11 Nt=4 TF=4 maxTF=1 @{0 4 6} \n",
            "ir -> term24 Nt=1 TF=1 maxTF=1 @{0 6 0} \n",
            "kei -> term17 Nt=1 TF=1 maxTF=1 @{0 6 6} \n",
            "languag -> term1 Nt=1 TF=1 maxTF=1 @{0 7 4} \n",
            "mathemat -> term14 Nt=1 TF=1 maxTF=1 @{0 7 6} \n",
            "model -> term15 Nt=1 TF=2 maxTF=2 @{0 8 4} \n",
            "plai -> term19 Nt=2 TF=2 maxTF=1 @{0 9 3} \n",
            "program -> term4 Nt=1 TF=1 maxTF=1 @{0 10 3} \n",
            "python -> term3 Nt=1 TF=1 maxTF=1 @{0 10 5} \n",
            "retriev -> term6 Nt=4 TF=4 maxTF=1 @{0 10 7} \n",
            "role -> term21 Nt=2 TF=2 maxTF=1 @{0 12 1} \n",
            "scienc -> term0 Nt=2 TF=2 maxTF=1 @{0 13 1} \n",
            "scientist -> term12 Nt=1 TF=1 maxTF=1 @{0 14 1} \n",
            "search -> term8 Nt=1 TF=1 maxTF=1 @{0 14 5} \n",
            "stude -> term13 Nt=1 TF=1 maxTF=1 @{0 15 1} \n",
            "system -> term18 Nt=2 TF=2 maxTF=1 @{0 15 5} \n",
            "techniqu -> term9 Nt=2 TF=2 maxTF=1 @{0 16 5} \n",
            "think -> term20 Nt=1 TF=1 maxTF=1 @{0 17 5} \n",
            "wide -> term5 Nt=1 TF=1 maxTF=1 @{0 18 3} \n"
          ]
        }
      ],
      "source": [
        "for kv in index.getLexicon():\n",
        "  print(\"%s -> %s \" % (kv.getKey(), kv.getValue().toString()))"
      ]
    }
  ],
  "metadata": {
    "colab": {
      "provenance": [],
      "include_colab_link": true
    },
    "kernelspec": {
      "display_name": "Python 3",
      "name": "python3"
    },
    "language_info": {
      "name": "python"
    }
  },
  "nbformat": 4,
  "nbformat_minor": 0
}