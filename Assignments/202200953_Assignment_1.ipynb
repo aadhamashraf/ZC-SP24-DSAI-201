{
  "nbformat": 4,
  "nbformat_minor": 0,
  "metadata": {
    "colab": {
      "provenance": []
    },
    "kernelspec": {
      "name": "python3",
      "display_name": "Python 3"
    },
    "language_info": {
      "name": "python"
    }
  },
  "cells": [
    {
      "cell_type": "code",
      "source": [
        "import re\n",
        "\n",
        "def clean_text(text):\n",
        "\n",
        "    text = re.sub(r\"[^a-zA-Z\\s\\-_]\", \"\", text)  # Remove special characters except hyphens and underscores\n",
        "    text = re.sub(r\"\\s+\", \" \", text)      # Remove extra spaces\n",
        "    return text.lower().strip()          # Convert to lowercase and remove leading/trailing spaces"
      ],
      "metadata": {
        "id": "5eIgDRjHPLFS"
      },
      "execution_count": null,
      "outputs": []
    },
    {
      "cell_type": "code",
      "source": [
        "\"\"\"\n",
        "This function builds an inverted index, which is like a fancy way of storing information\n",
        "about where words appear in our documents.\n",
        "\"\"\"\n",
        "def build_inverted_index(documents):\n",
        "    inverted_index = {}\n",
        "    for doc_id, document in enumerate(documents):\n",
        "        cleaned_document = clean_text(document)\n",
        "        terms = cleaned_document.split()\n",
        "        for term in terms:\n",
        "            if term not in inverted_index:\n",
        "                inverted_index[term] = []\n",
        "            inverted_index[term].append(doc_id)  # Add document ID to the term's list\n",
        "    return inverted_index"
      ],
      "metadata": {
        "id": "_eiBWSgVPQ5w"
      },
      "execution_count": null,
      "outputs": []
    },
    {
      "cell_type": "code",
      "source": [
        "\"\"\"\n",
        "This function takes a Boolean query  and uses the\n",
        "inverted index to find documents that match the query.\n",
        "\"\"\"\n",
        "\n",
        "def process_boolean_query(query, inverted_index):\n",
        "\n",
        "    query_terms = query.split()\n",
        "    results = set(range(len(documents)))\n",
        "\n",
        "    for index in range(len(query_terms)):\n",
        "        term = query_terms[index]\n",
        "\n",
        "        if term == \"AND\":\n",
        "            if index + 1 < len(query_terms):\n",
        "                next_term = query_terms[index + 1]\n",
        "                results = results.intersection(set(inverted_index.get(next_term, [])))\n",
        "\n",
        "        elif term == \"OR\":\n",
        "            if index + 1 < len(query_terms):\n",
        "                next_term = query_terms[index + 1]\n",
        "                results = results.union(set(inverted_index.get(next_term, [])))\n",
        "\n",
        "        elif term == \"NOT\":\n",
        "            if index + 1 < len(query_terms):\n",
        "                next_term = query_terms[index + 1]\n",
        "                results = results.difference(set(inverted_index.get(next_term, [])))\n",
        "\n",
        "        else:\n",
        "            results = results.intersection(set(inverted_index.get(term, [])))\n",
        "\n",
        "    return sorted(list(results))"
      ],
      "metadata": {
        "id": "VWSCh37zPEZx"
      },
      "execution_count": null,
      "outputs": []
    },
    {
      "cell_type": "code",
      "source": [
        "\"\"\"\n",
        "This iterates through each query, finds matching documents, and then highlights the search terms\n",
        "within those documents.\n",
        "\"\"\"\n",
        "\n",
        "def print_results(queries, documents, inverted_index):\n",
        "\n",
        "    for query in queries:\n",
        "        matching_documents = process_boolean_query(query, inverted_index)\n",
        "\n",
        "        if not matching_documents:\n",
        "            print(f\"Query: {query}, Result: No documents found\")\n",
        "        else:\n",
        "            # Highlight the search terms in the titles of matching documents\n",
        "            emphasized_documents = []\n",
        "            for doc_id in matching_documents:\n",
        "                document = documents[doc_id]\n",
        "                original_query_terms = query.split()\n",
        "               # Replace each word in the document with its bolded version\n",
        "                for term in original_query_terms:\n",
        "                    document = document.replace(term, f\"**{term}**\")\n",
        "                emphasized_documents.append(document)\n",
        "\n",
        "            print(f\"Query: {query}, Result:\")\n",
        "            for doc in emphasized_documents:\n",
        "                print(doc)"
      ],
      "metadata": {
        "id": "2h-wXSGSPchC"
      },
      "execution_count": null,
      "outputs": []
    },
    {
      "cell_type": "code",
      "source": [
        "documents = [\n",
        "    \"The importance of education in society and its impact on economic growth\",\n",
        "    \"The benefits of regular exercise for maintaining physical and mental health\",\n",
        "    \"The role of technology in modern workplaces: Increasing productivity and efficiency\",\n",
        "    \"The influence of social media on interpersonal relationships and communication\",\n",
        "    \"The significance of environmental conservation efforts for sustainable development\",\n",
        "    \"The challenges and opportunities of globalization in the 21st century\"\n",
        "]\n",
        "\n",
        "queries = [\n",
        "    \"technology AND workplaces\",\n",
        "    \"environment AND NOT conservation\",\n",
        "    \"social media OR interpersonal relationships\",\n",
        "    \"health AND public AND NOT governments\"\n",
        "]\n",
        "\n",
        "\n",
        "inverted_index = build_inverted_index(documents)\n",
        "print_results(queries, documents, inverted_index)"
      ],
      "metadata": {
        "colab": {
          "base_uri": "https://localhost:8080/"
        },
        "id": "H9oE05ezN1-S",
        "outputId": "75a0198e-1a09-47ad-9c3b-9fd07d7f0519"
      },
      "execution_count": null,
      "outputs": [
        {
          "output_type": "stream",
          "name": "stdout",
          "text": [
            "Query: technology AND workplaces, Result:\n",
            "The role of **technology** in modern **workplaces**: Increasing productivity and efficiency\n",
            "Query: environment AND NOT conservation, Result: No documents found\n",
            "Query: social media OR interpersonal relationships, Result:\n",
            "The influence of **social** **media** on **interpersonal** **relationships** and communication\n",
            "Query: health AND public AND NOT governments, Result: No documents found\n"
          ]
        }
      ]
    }
  ]
}